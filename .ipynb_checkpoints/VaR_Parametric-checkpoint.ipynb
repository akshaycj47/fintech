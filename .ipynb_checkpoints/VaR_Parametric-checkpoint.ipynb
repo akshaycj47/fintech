{
 "cells": [
  {
   "cell_type": "code",
   "execution_count": 2,
   "id": "122f515d",
   "metadata": {},
   "outputs": [],
   "source": [
    "# Import libraries\n",
    "\n",
    "import numpy as np\n",
    "import pandas as pd\n",
    "import datetime as dt\n",
    "import yfinance as yf"
   ]
  },
  {
   "cell_type": "code",
   "execution_count": 3,
   "id": "d830703b",
   "metadata": {},
   "outputs": [],
   "source": [
    "# Set timeframe and define tickers\n",
    "\n",
    "years = 15\n",
    "\n",
    "end_date = dt.datetime.now()\n",
    "start_date = end_date - dt.timedelta(days=365*years)\n",
    "\n",
    "tickers = ['SPY', 'BND', 'GLD', 'QQQ', 'VTI']"
   ]
  },
  {
   "cell_type": "code",
   "execution_count": 6,
   "id": "0f9a0c4e",
   "metadata": {},
   "outputs": [
    {
     "name": "stderr",
     "output_type": "stream",
     "text": [
      "[*********************100%%**********************]  1 of 1 completed\n",
      "[*********************100%%**********************]  1 of 1 completed\n",
      "[*********************100%%**********************]  1 of 1 completed\n",
      "[*********************100%%**********************]  1 of 1 completed\n",
      "[*********************100%%**********************]  1 of 1 completed"
     ]
    },
    {
     "name": "stdout",
     "output_type": "stream",
     "text": [
      "                 SPY       BND       GLD       QQQ       VTI\n",
      "Date                                                        \n",
      "2009-02-18 -0.002401 -0.003880  0.015180  0.000684 -0.003298\n",
      "2009-02-19 -0.010813 -0.004286 -0.011833 -0.015509 -0.010728\n",
      "2009-02-20 -0.009769  0.001820  0.020975  0.002775 -0.011883\n",
      "2009-02-23 -0.036435  0.001688 -0.000716 -0.035611 -0.034637\n",
      "2009-02-24  0.037209 -0.000778 -0.031178  0.032489  0.035676\n",
      "...              ...       ...       ...       ...       ...\n",
      "2024-02-07  0.008306 -0.001926 -0.000265  0.010238  0.007851\n",
      "2024-02-08  0.000442 -0.002620 -0.000902  0.001850  0.002469\n",
      "2024-02-09  0.005763 -0.000829 -0.003884  0.009795  0.006085\n",
      "2024-02-12 -0.000439  0.000276 -0.002615 -0.003920  0.000964\n",
      "2024-02-13 -0.013869 -0.008741 -0.013885 -0.015720 -0.016145\n",
      "\n",
      "[3773 rows x 5 columns]\n"
     ]
    },
    {
     "name": "stderr",
     "output_type": "stream",
     "text": [
      "\n"
     ]
    }
   ],
   "source": [
    "# Download adjusted close price and calculate log returns\n",
    "\n",
    "adj_close_df = pd.DataFrame()\n",
    "\n",
    "for ticker in tickers:\n",
    "    data = yf.download(ticker, start=start_date, end=end_date)\n",
    "    adj_close_df[ticker] = data['Adj Close']\n",
    "    \n",
    "log_returns = np.log(adj_close_df / adj_close_df.shift(1))\n",
    "log_returns = log_returns.dropna()\n",
    "\n",
    "print(log_returns)"
   ]
  },
  {
   "cell_type": "code",
   "execution_count": 9,
   "id": "442a0746",
   "metadata": {},
   "outputs": [
    {
     "name": "stdout",
     "output_type": "stream",
     "text": [
      "Date\n",
      "2009-02-18    0.001257\n",
      "2009-02-19   -0.010634\n",
      "2009-02-20    0.000784\n",
      "2009-02-23   -0.021142\n",
      "2009-02-24    0.014684\n",
      "                ...   \n",
      "2024-02-07    0.004841\n",
      "2024-02-08    0.000248\n",
      "2024-02-09    0.003386\n",
      "2024-02-12   -0.001147\n",
      "2024-02-13   -0.013672\n",
      "Length: 3773, dtype: float64\n"
     ]
    }
   ],
   "source": [
    "# Create equally weighted portfolio and calculate historical returns\n",
    "\n",
    "portfolio_value = 1000000\n",
    "weights = np.array([1/len(tickers)] * len(tickers))\n",
    "\n",
    "historical_returns = (log_returns * weights).sum(axis=1)\n",
    "\n",
    "print(historical_returns)"
   ]
  },
  {
   "cell_type": "code",
   "execution_count": 11,
   "id": "e3f0af26",
   "metadata": {},
   "outputs": [
    {
     "name": "stdout",
     "output_type": "stream",
     "text": [
      "Date\n",
      "2009-02-24   -0.015052\n",
      "2009-02-25   -0.025157\n",
      "2009-02-26   -0.027734\n",
      "2009-02-27   -0.039456\n",
      "2009-03-02   -0.046996\n",
      "                ...   \n",
      "2024-02-07    0.017377\n",
      "2024-02-08    0.006735\n",
      "2024-02-09    0.006670\n",
      "2024-02-12    0.010164\n",
      "2024-02-13   -0.006344\n",
      "Length: 3769, dtype: float64\n"
     ]
    }
   ],
   "source": [
    "# Find X-Day historical returns\n",
    "\n",
    "days = 5\n",
    "historical_x_day_returns = historical_returns.rolling(window=days).sum().dropna()\n",
    "\n",
    "print(historical_x_day_returns)"
   ]
  },
  {
   "cell_type": "code",
   "execution_count": 16,
   "id": "d58d771f",
   "metadata": {},
   "outputs": [
    {
     "name": "stdout",
     "output_type": "stream",
     "text": [
      "          SPY       BND       GLD       QQQ       VTI\n",
      "SPY  0.031859 -0.000122  0.001486  0.034362  0.032508\n",
      "BND -0.000122  0.002332  0.002257  0.000109 -0.000076\n",
      "GLD  0.001486  0.002257  0.024848  0.001628  0.001615\n",
      "QQQ  0.034362  0.000109  0.001628  0.043232  0.035142\n",
      "VTI  0.032508 -0.000076  0.001615  0.035142  0.033449\n",
      "0.11891807380064448\n"
     ]
    }
   ],
   "source": [
    "# Create covariance matrix and calculate portfolio standard deviation\n",
    "\n",
    "cov_matrix = log_returns.cov() * 252 # 252 business days in a year\n",
    "portfolio_std_dev = np.sqrt(weights.T @ cov_matrix @ weights) # @ is used for matrix multiplication\n",
    "\n",
    "print(cov_matrix)\n",
    "print(portfolio_std_dev)"
   ]
  },
  {
   "cell_type": "code",
   "execution_count": 18,
   "id": "5c9b5a8c",
   "metadata": {},
   "outputs": [],
   "source": [
    "# Calculate VaR at different confidence levels\n",
    "\n",
    "from scipy.stats import norm\n",
    "\n",
    "confidence_levels = [0.90, 0.95, 0.99]\n",
    "\n",
    "VaRs = []\n",
    "\n",
    "for cl in confidence_levels:\n",
    "    VaR = portfolio_value * (norm.ppf(1 - cl) * portfolio_std_dev * np.sqrt(days / 252) - historical_returns.mean() * days)\n",
    "    VaRs.append(VaR)\n"
   ]
  },
  {
   "cell_type": "code",
   "execution_count": 19,
   "id": "8f8d10e6",
   "metadata": {},
   "outputs": [
    {
     "name": "stdout",
     "output_type": "stream",
     "text": [
      "Confidence Level     Value at Risk       \n",
      "----------------------------------------\n",
      "    90%:          $-23,602.29\n",
      "    95%:          $-29,687.85\n",
      "    99%:          $-41,103.35\n"
     ]
    }
   ],
   "source": [
    "# Print VaR Results\n",
    "\n",
    "print(f'{\"Confidence Level\":<20} {\"Value at Risk\":<20}')\n",
    "print('-' * 40)\n",
    "\n",
    "for cl, VaR in zip(confidence_levels, VaRs):\n",
    "    print(f'{cl * 100:>6.0f}%: {\"\":<8} ${VaR:>10,.2f}')"
   ]
  },
  {
   "cell_type": "code",
   "execution_count": 21,
   "id": "87b79b22",
   "metadata": {},
   "outputs": [
    {
     "data": {
      "image/png": "[encoded data removed]",
      "text/plain": [
       "<Figure size 640x480 with 1 Axes>"
      ]
     },
     "metadata": {},
     "output_type": "display_data"
    }
   ],
   "source": [
    "# Plot the distribution of portfolio returns and Parametric VaR estimate\n",
    "import matplotlib.pyplot as plt\n",
    "\n",
    "# Convert returns to dollar values for the histogram\n",
    "historical_x_day_returns_dollar = historical_x_day_returns * portfolio_value\n",
    "\n",
    "# Plot the histogram\n",
    "plt.hist(historical_x_day_returns_dollar, bins=50, density=True, alpha=0.5, label=f'{days}-Day Returns')\n",
    "\n",
    "# Add vertical lines representing VaR at each confidence level\n",
    "for cl, VaR in zip(confidence_levels, VaRs):\n",
    "    plt.axvline(x=-VaR, linestyle='--', color='r', label='VaR at {}% Confidence'.format(int(cl * 100)))\n",
    "\n",
    "plt.xlabel(f'{days}-Day Portfolio Return ($)')\n",
    "plt.ylabel('Frequency')\n",
    "plt.title(f'Distribution of Portfolio {days}-Day Returns and Parametric VaR Estimates')\n",
    "plt.legend()\n",
    "plt.show()"
   ]
  },
  {
   "cell_type": "code",
   "execution_count": null,
   "id": "8b6c9713",
   "metadata": {},
   "outputs": [],
   "source": []
  }
 ],
 "metadata": {
  "kernelspec": {
   "display_name": "Python 3 (ipykernel)",
   "language": "python",
   "name": "python3"
  },
  "language_info": {
   "codemirror_mode": {
    "name": "ipython",
    "version": 3
   },
   "file_extension": ".py",
   "mimetype": "text/x-python",
   "name": "python",
   "nbconvert_exporter": "python",
   "pygments_lexer": "ipython3",
   "version": "3.11.5"
  }
 },
 "nbformat": 4,
 "nbformat_minor": 5
}
