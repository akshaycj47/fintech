{
 "cells": [
  {
   "cell_type": "code",
   "execution_count": 2,
   "id": "713fcd09",
   "metadata": {},
   "outputs": [
    {
     "name": "stdout",
     "output_type": "stream",
     "text": [
      "Collecting yfinance\n",
      "  Obtaining dependency information for yfinance from https://files.pythonhosted.org/packages/1b/0f/77716aa9dd84bb1aa5e93c87122af1de89697b6231f6d01d58d4e7c03c14/yfinance-0.2.36-py2.py3-none-any.whl.metadata\n",
      "  Downloading yfinance-0.2.36-py2.py3-none-any.whl.metadata (11 kB)\n",
      "Requirement already satisfied: pandas>=1.3.0 in /Users/akshaysawant/anaconda3/lib/python3.11/site-packages (from yfinance) (2.0.3)\n",
      "Requirement already satisfied: numpy>=1.16.5 in /Users/akshaysawant/anaconda3/lib/python3.11/site-packages (from yfinance) (1.24.3)\n",
      "Requirement already satisfied: requests>=2.31 in /Users/akshaysawant/anaconda3/lib/python3.11/site-packages (from yfinance) (2.31.0)\n",
      "Collecting multitasking>=0.0.7 (from yfinance)\n",
      "  Downloading multitasking-0.0.11-py3-none-any.whl (8.5 kB)\n",
      "Requirement already satisfied: lxml>=4.9.1 in /Users/akshaysawant/anaconda3/lib/python3.11/site-packages (from yfinance) (4.9.3)\n",
      "Requirement already satisfied: appdirs>=1.4.4 in /Users/akshaysawant/anaconda3/lib/python3.11/site-packages (from yfinance) (1.4.4)\n",
      "Requirement already satisfied: pytz>=2022.5 in /Users/akshaysawant/anaconda3/lib/python3.11/site-packages (from yfinance) (2023.3.post1)\n",
      "Collecting frozendict>=2.3.4 (from yfinance)\n",
      "  Downloading frozendict-2.4.0.tar.gz (314 kB)\n",
      "\u001b[2K     \u001b[90m━━━━━━━━━━━━━━━━━━━━━━━━━━━━━━━━━━━━━━━\u001b[0m \u001b[32m314.6/314.6 kB\u001b[0m \u001b[31m7.8 MB/s\u001b[0m eta \u001b[36m0:00:00\u001b[0m00:01\u001b[0m\n",
      "\u001b[?25h  Installing build dependencies ... \u001b[?25ldone\n",
      "\u001b[?25h  Getting requirements to build wheel ... \u001b[?25ldone\n",
      "\u001b[?25h  Preparing metadata (pyproject.toml) ... \u001b[?25ldone\n",
      "\u001b[?25hCollecting peewee>=3.16.2 (from yfinance)\n",
      "  Downloading peewee-3.17.0.tar.gz (2.9 MB)\n",
      "\u001b[2K     \u001b[90m━━━━━━━━━━━━━━━━━━━━━━━━━━━━━━━━━━━━━━━━\u001b[0m \u001b[32m2.9/2.9 MB\u001b[0m \u001b[31m34.9 MB/s\u001b[0m eta \u001b[36m0:00:00\u001b[0m00:01\u001b[0m00:01\u001b[0m\n",
      "\u001b[?25h  Installing build dependencies ... \u001b[?25ldone\n",
      "\u001b[?25h  Getting requirements to build wheel ... \u001b[?25ldone\n",
      "\u001b[?25h  Preparing metadata (pyproject.toml) ... \u001b[?25ldone\n",
      "\u001b[?25hRequirement already satisfied: beautifulsoup4>=4.11.1 in /Users/akshaysawant/anaconda3/lib/python3.11/site-packages (from yfinance) (4.12.2)\n",
      "Collecting html5lib>=1.1 (from yfinance)\n",
      "  Downloading html5lib-1.1-py2.py3-none-any.whl (112 kB)\n",
      "\u001b[2K     \u001b[90m━━━━━━━━━━━━━━━━━━━━━━━━━━━━━━━━━━━━━━\u001b[0m \u001b[32m112.2/112.2 kB\u001b[0m \u001b[31m17.2 MB/s\u001b[0m eta \u001b[36m0:00:00\u001b[0m\n",
      "\u001b[?25hRequirement already satisfied: soupsieve>1.2 in /Users/akshaysawant/anaconda3/lib/python3.11/site-packages (from beautifulsoup4>=4.11.1->yfinance) (2.4)\n",
      "Requirement already satisfied: six>=1.9 in /Users/akshaysawant/anaconda3/lib/python3.11/site-packages (from html5lib>=1.1->yfinance) (1.16.0)\n",
      "Requirement already satisfied: webencodings in /Users/akshaysawant/anaconda3/lib/python3.11/site-packages (from html5lib>=1.1->yfinance) (0.5.1)\n",
      "Requirement already satisfied: python-dateutil>=2.8.2 in /Users/akshaysawant/anaconda3/lib/python3.11/site-packages (from pandas>=1.3.0->yfinance) (2.8.2)\n",
      "Requirement already satisfied: tzdata>=2022.1 in /Users/akshaysawant/anaconda3/lib/python3.11/site-packages (from pandas>=1.3.0->yfinance) (2023.3)\n",
      "Requirement already satisfied: charset-normalizer<4,>=2 in /Users/akshaysawant/anaconda3/lib/python3.11/site-packages (from requests>=2.31->yfinance) (2.0.4)\n",
      "Requirement already satisfied: idna<4,>=2.5 in /Users/akshaysawant/anaconda3/lib/python3.11/site-packages (from requests>=2.31->yfinance) (3.4)\n",
      "Requirement already satisfied: urllib3<3,>=1.21.1 in /Users/akshaysawant/anaconda3/lib/python3.11/site-packages (from requests>=2.31->yfinance) (1.26.16)\n",
      "Requirement already satisfied: certifi>=2017.4.17 in /Users/akshaysawant/anaconda3/lib/python3.11/site-packages (from requests>=2.31->yfinance) (2023.7.22)\n",
      "Downloading yfinance-0.2.36-py2.py3-none-any.whl (72 kB)\n",
      "\u001b[2K   \u001b[90m━━━━━━━━━━━━━━━━━━━━━━━━━━━━━━━━━━━━━━━━\u001b[0m \u001b[32m72.4/72.4 kB\u001b[0m \u001b[31m6.8 MB/s\u001b[0m eta \u001b[36m0:00:00\u001b[0m\n",
      "\u001b[?25hBuilding wheels for collected packages: frozendict, peewee\n",
      "  Building wheel for frozendict (pyproject.toml) ... \u001b[?25ldone\n",
      "\u001b[?25h  Created wheel for frozendict: filename=frozendict-2.4.0-py3-none-any.whl size=15425 sha256=5101d9fd4a7a7092a7d825826bf97d3c5a8ac59b594f5880113c0c2c0190383d\n",
      "  Stored in directory: /Users/akshaysawant/Library/Caches/pip/wheels/31/dd/81/a814e6f8cde8a1bbc1f088fdc273943371f10478b91a605e14\n",
      "  Building wheel for peewee (pyproject.toml) ... \u001b[?25ldone\n",
      "\u001b[?25h  Created wheel for peewee: filename=peewee-3.17.0-cp311-cp311-macosx_11_0_arm64.whl size=243515 sha256=ce0af371d808f6c5371e8d1aaa4d83d27a239fc8a188853c84aaba47a2ef04eb\n",
      "  Stored in directory: /Users/akshaysawant/Library/Caches/pip/wheels/02/20/23/74a10d0cd31f5d41c19b92ddf4c138ceff01b9f4675f19dbf5\n",
      "Successfully built frozendict peewee\n",
      "Installing collected packages: peewee, multitasking, html5lib, frozendict, yfinance\n",
      "Successfully installed frozendict-2.4.0 html5lib-1.1 multitasking-0.0.11 peewee-3.17.0 yfinance-0.2.36\n"
     ]
    }
   ],
   "source": [
    "!pip install yfinance"
   ]
  },
  {
   "cell_type": "code",
   "execution_count": 16,
   "id": "307477fa",
   "metadata": {},
   "outputs": [],
   "source": [
    "import numpy as np\n",
    "import pandas as pd\n",
    "import datetime as dt\n",
    "import yfinance as yf"
   ]
  },
  {
   "cell_type": "code",
   "execution_count": 17,
   "id": "3b79e6d5",
   "metadata": {},
   "outputs": [],
   "source": [
    "# Setting time range and tickers\n",
    "\n",
    "years = 15\n",
    "\n",
    "end_date = dt.datetime.now()\n",
    "start_date = end_date - dt.timedelta(days=365*years)\n",
    "\n",
    "tickers = [\"SPY\", \"BND\", \"GLD\", \"QQQ\", \"VTI\"]"
   ]
  },
  {
   "cell_type": "code",
   "execution_count": 18,
   "id": "344a533a",
   "metadata": {},
   "outputs": [
    {
     "name": "stderr",
     "output_type": "stream",
     "text": [
      "[*********************100%%**********************]  1 of 1 completed\n",
      "[*********************100%%**********************]  1 of 1 completed\n",
      "[*********************100%%**********************]  1 of 1 completed\n",
      "[*********************100%%**********************]  1 of 1 completed\n",
      "[*********************100%%**********************]  1 of 1 completed"
     ]
    },
    {
     "name": "stdout",
     "output_type": "stream",
     "text": [
      "                   SPY        BND         GLD         QQQ         VTI\n",
      "Date                                                                 \n",
      "2009-02-05   63.547676  50.003010   90.120003   26.712711   31.825924\n",
      "2009-02-06   65.358589  49.996460   89.589996   27.411776   32.740860\n",
      "2009-02-09   65.448738  50.009529   88.320000   27.525373   32.748421\n",
      "2009-02-10   62.450573  50.282948   90.209999   26.511734   31.251251\n",
      "2009-02-11   62.818764  50.465233   92.290001   26.389406   31.440292\n",
      "...                ...        ...         ...         ...         ...\n",
      "2024-01-26  487.410004  72.699997  187.009995  423.809998  242.119995\n",
      "2024-01-29  491.269989  72.989998  188.330002  428.149994  244.320007\n",
      "2024-01-30  490.890015  73.120003  188.589996  425.299988  243.979996\n",
      "2024-01-31  482.880005  73.430000  188.449997  416.970001  239.869995\n",
      "2024-02-01  489.200012  73.660004  190.410004  421.880005  243.100006\n",
      "\n",
      "[3773 rows x 5 columns]\n"
     ]
    },
    {
     "name": "stderr",
     "output_type": "stream",
     "text": [
      "\n"
     ]
    }
   ],
   "source": [
    "# Downloading Adjusted Close Prices\n",
    "\n",
    "adj_close_df = pd.DataFrame()\n",
    "\n",
    "for ticker in tickers:\n",
    "    data = yf.download(ticker, start=start_date, end=end_date)\n",
    "    adj_close_df[ticker] = data['Adj Close']\n",
    "    \n",
    "print(adj_close_df)"
   ]
  },
  {
   "cell_type": "code",
   "execution_count": 19,
   "id": "da631681",
   "metadata": {},
   "outputs": [
    {
     "name": "stdout",
     "output_type": "stream",
     "text": [
      "                 SPY       BND       GLD       QQQ       VTI\n",
      "Date                                                        \n",
      "2009-02-06  0.028098 -0.000131 -0.005898  0.025833  0.028343\n",
      "2009-02-09  0.001378  0.000261 -0.014277  0.004136  0.000231\n",
      "2009-02-10 -0.046892  0.005452  0.021174 -0.037521 -0.046795\n",
      "2009-02-11  0.005878  0.003619  0.022796 -0.004625  0.006031\n",
      "2009-02-12  0.000717 -0.002584  0.009490  0.012177  0.002642\n",
      "...              ...       ...       ...       ...       ...\n",
      "2024-01-26 -0.001271 -0.001512 -0.000695 -0.005975 -0.000826\n",
      "2024-01-29  0.007888  0.003981  0.007034  0.010188  0.009045\n",
      "2024-01-30 -0.000774  0.001780  0.001380 -0.006679 -0.001393\n",
      "2024-01-31 -0.016452  0.004231 -0.000743 -0.019780 -0.016989\n",
      "2024-02-01  0.013003  0.003127  0.010347  0.011707  0.013376\n",
      "\n",
      "[3772 rows x 5 columns]\n"
     ]
    }
   ],
   "source": [
    "# Calculating Daily Log Returns and Dropping NAs\n",
    "\n",
    "log_returns = np.log(adj_close_df / adj_close_df.shift(1))\n",
    "log_returns = log_returns.dropna()\n",
    "\n",
    "print(log_returns)"
   ]
  },
  {
   "cell_type": "code",
   "execution_count": 20,
   "id": "eaf2b626",
   "metadata": {},
   "outputs": [
    {
     "name": "stdout",
     "output_type": "stream",
     "text": [
      "[0.2 0.2 0.2 0.2 0.2]\n"
     ]
    }
   ],
   "source": [
    "# Creating an equally weighted portfolio\n",
    "\n",
    "portfolio_value = 1000000\n",
    "weights = np.array([1/len(tickers)] * len(tickers))\n",
    "\n",
    "print(weights)"
   ]
  },
  {
   "cell_type": "code",
   "execution_count": 22,
   "id": "c284978c",
   "metadata": {},
   "outputs": [
    {
     "name": "stdout",
     "output_type": "stream",
     "text": [
      "Date\n",
      "2009-02-06    0.015249\n",
      "2009-02-09   -0.001654\n",
      "2009-02-10   -0.020916\n",
      "2009-02-11    0.006740\n",
      "2009-02-12    0.004489\n",
      "                ...   \n",
      "2024-01-26   -0.002056\n",
      "2024-01-29    0.007627\n",
      "2024-01-30   -0.001137\n",
      "2024-01-31   -0.009947\n",
      "2024-02-01    0.010312\n",
      "Length: 3772, dtype: float64\n"
     ]
    }
   ],
   "source": [
    "# Calculating historical portfolio returns\n",
    "\n",
    "historical_returns = (log_returns * weights).sum(axis=1)\n",
    "\n",
    "print(historical_returns)"
   ]
  },
  {
   "cell_type": "code",
   "execution_count": 24,
   "id": "61de2549",
   "metadata": {},
   "outputs": [
    {
     "name": "stdout",
     "output_type": "stream",
     "text": [
      "Date\n",
      "2009-02-12    0.003907\n",
      "2009-02-13   -0.018717\n",
      "2009-02-17   -0.035273\n",
      "2009-02-18   -0.013100\n",
      "2009-02-19   -0.030473\n",
      "                ...   \n",
      "2024-01-26    0.004543\n",
      "2024-01-29    0.011047\n",
      "2024-01-30    0.007823\n",
      "2024-01-31   -0.001346\n",
      "2024-02-01    0.004800\n",
      "Length: 3768, dtype: float64\n"
     ]
    }
   ],
   "source": [
    "# Finding X-Day historical returns\n",
    "\n",
    "days = 5\n",
    "\n",
    "range_returns = historical_returns.rolling(window=days).sum()\n",
    "range_returns = range_returns.dropna()\n",
    "\n",
    "print(range_returns)"
   ]
  },
  {
   "cell_type": "code",
   "execution_count": 27,
   "id": "b7e8aad7",
   "metadata": {},
   "outputs": [
    {
     "name": "stdout",
     "output_type": "stream",
     "text": [
      "44930.997234890994\n"
     ]
    }
   ],
   "source": [
    "# Calculating VaR using the historical method\n",
    "\n",
    "confidence_level = 0.99\n",
    "\n",
    "VaR = -np.percentile(range_returns, 100 - (confidence_level * 100)) * portfolio_value\n",
    "\n",
    "print(VaR)"
   ]
  },
  {
   "cell_type": "code",
   "execution_count": 31,
   "id": "0f3d31c5",
   "metadata": {},
   "outputs": [
    {
     "data": {
      "image/png": "[encoded data removed]",
      "text/plain": [
       "<Figure size 640x480 with 1 Axes>"
      ]
     },
     "metadata": {},
     "output_type": "display_data"
    }
   ],
   "source": [
    "# Plotting the results of the historical returns\n",
    "\n",
    "import matplotlib.pyplot as plt\n",
    "\n",
    "return_window = days\n",
    "range_returns = historical_returns.rolling(window=return_window).sum()\n",
    "range_returns = range_returns.dropna()\n",
    "\n",
    "range_returns_dollar = range_returns * portfolio_value\n",
    "\n",
    "plt.hist(range_returns_dollar.dropna(), bins=50, density=True)\n",
    "plt.xlabel(f'{return_window}-Day Portfolio Return (Dollar Value)')\n",
    "plt.ylabel('Frequency')\n",
    "plt.title(f'Distribution of Portfolio {return_window}-Day Returns (Dollar Value)')\n",
    "plt.axvline(-VaR, color='r', linestyle='dashed', linewidth=2, label=f'VaR at {confidence_level:.0%} confidence level')\n",
    "plt.legend()\n",
    "plt.show()"
   ]
  },
  {
   "cell_type": "code",
   "execution_count": null,
   "id": "cad33fc6",
   "metadata": {},
   "outputs": [],
   "source": []
  }
 ],
 "metadata": {
  "kernelspec": {
   "display_name": "Python 3 (ipykernel)",
   "language": "python",
   "name": "python3"
  },
  "language_info": {
   "codemirror_mode": {
    "name": "ipython",
    "version": 3
   },
   "file_extension": ".py",
   "mimetype": "text/x-python",
   "name": "python",
   "nbconvert_exporter": "python",
   "pygments_lexer": "ipython3",
   "version": "3.11.5"
  }
 },
 "nbformat": 4,
 "nbformat_minor": 5
}
